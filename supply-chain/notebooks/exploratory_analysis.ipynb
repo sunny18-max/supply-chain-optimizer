{
 "cells": [
  {
   "cell_type": "code",
   "execution_count": null,
   "id": "16169d4b",
   "metadata": {
    "vscode": {
     "languageId": "plaintext"
    }
   },
   "outputs": [],
   "source": [
    "\n",
    "---\n",
    "\n",
    "### 2. `notebooks/exploratory_analysis.ipynb`\n",
    "\n",
    "```python\n",
    "{\n",
    " \"cells\": [\n",
    "  {\n",
    "   \"cell_type\": \"markdown\",\n",
    "   \"metadata\": {},\n",
    "   \"source\": [\n",
    "    \"# Supply Chain Data Analysis\"\n",
    "   ]\n",
    "  },\n",
    "  {\n",
    "   \"cell_type\": \"code\",\n",
    "   \"execution_count\": null,\n",
    "   \"metadata\": {},\n",
    "   \"outputs\": [],\n",
    "   \"source\": [\n",
    "    \"import pandas as pd\\n\",\n",
    "    \"import matplotlib.pyplot as plt\\n\",\n",
    "    \"\\n\",\n",
    "    \"# Load data\\n\",\n",
    "    \"facilities = pd.read_csv('../data/facilities.csv')\\n\",\n",
    "    \"demand = pd.read_csv('../data/demand.csv')\\n\",\n",
    "    \"\\n\",\n",
    "    \"# Analyze demand\\n\",\n",
    "    \"demand_by_product = demand.groupby('product_id')['demand'].sum()\\n\",\n",
    "    \"demand_by_product.plot(kind='bar', title='Total Demand by Product')\\n\",\n",
    "    \"plt.ylabel('Units')\\n\",\n",
    "    \"plt.savefig('../outputs/visualizations/demand_analysis.png')\"\n",
    "   ]\n",
    "  },\n",
    "  {\n",
    "   \"cell_type\": \"code\",\n",
    "   \"execution_count\": null,\n",
    "   \"metadata\": {},\n",
    "   \"outputs\": [],\n",
    "   \"source\": [\n",
    "    \"# Transportation cost analysis\\n\",\n",
    "    \"costs = pd.read_csv('../data/transport_costs.csv')\\n\",\n",
    "    \"avg_cost = costs.pivot_table(index='facility_id', columns='customer_id', values='cost_per_unit')\\n\",\n",
    "    \"avg_cost.style.background_gradient(cmap='Blues').set_caption('Transport Cost Matrix')\"\n",
    "   ]\n",
    "  }\n",
    " ]\n",
    "}"
   ]
  }
 ],
 "metadata": {
  "language_info": {
   "name": "python"
  }
 },
 "nbformat": 4,
 "nbformat_minor": 5
}
